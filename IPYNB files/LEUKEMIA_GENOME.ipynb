{
 "cells": [
  {
   "cell_type": "code",
   "execution_count": 1,
   "metadata": {},
   "outputs": [],
   "source": [
    "file1=open('Feline_Leukemia.txt')\n",
    "file1=file1.read()\n",
    "file2=open('Bovine_Leukemia.txt')\n",
    "file2=file2.read()\n",
    "file3=open('Abelson_Murine_Leukemia.txt')\n",
    "file3=file3.read()\n",
    "pattern_6='ATGCAT'\n",
    "pattern_5='ATGCA'\n",
    "pattern_4='ATGC'\n",
    "#print(file1)\n",
    "#print(len(file1))"
   ]
  },
  {
   "cell_type": "code",
   "execution_count": 2,
   "metadata": {},
   "outputs": [],
   "source": [
    "import csv"
   ]
  },
  {
   "cell_type": "code",
   "execution_count": 3,
   "metadata": {},
   "outputs": [],
   "source": [
    "l1 = len(file1)\n",
    "l2 = len(file2)\n",
    "l3 = len(file3)"
   ]
  },
  {
   "cell_type": "code",
   "execution_count": 4,
   "metadata": {},
   "outputs": [],
   "source": [
    "count=[]\n",
    "iter_naive=[]\n",
    "iter_kmp=[]\n",
    "iter_bm=[]"
   ]
  },
  {
   "cell_type": "code",
   "execution_count": 5,
   "metadata": {},
   "outputs": [],
   "source": [
    "def Naive(pat, txt):\n",
    "    M = len(pat)\n",
    "    N = len(txt)\n",
    "    c=0\n",
    "    iter1=0\n",
    "    # A loop to slide pat[] one by one */\n",
    "    for i in range(N - M + 1):\n",
    "        j = 0\n",
    "        iter1=iter1+1\n",
    "        # For current index i, check\n",
    "        # for pattern match */\n",
    "        while(j < M):\n",
    "            iter1=iter1+1\n",
    "            if (txt[i + j] != pat[j]):\n",
    "                iter1=iter1+1\n",
    "                break\n",
    "            j += 1\n",
    " \n",
    "        if (j == M):\n",
    "            iter1=iter1+1\n",
    "            c=c+1\n",
    "            #print(\"Pattern found at index \", i)\n",
    "    #print(\"count\",c)\n",
    "    count.append(c)\n",
    "    iter_naive.append(iter1)"
   ]
  },
  {
   "cell_type": "code",
   "execution_count": 6,
   "metadata": {},
   "outputs": [],
   "source": [
    "def computeLPSArray(pat, M, lps):\n",
    "    len = 0 # length of the previous longest prefix suffix\n",
    "    iter2=0\n",
    "    lps[0] # lps[0] is always 0\n",
    "    i = 1\n",
    "    # the loop calculates lps[i] for i = 1 to M-1\n",
    "    while i < M:\n",
    "        iter2=iter2+1\n",
    "        if pat[i]== pat[len]:\n",
    "            iter2=iter2+1\n",
    "            len += 1\n",
    "            lps[i] = len\n",
    "            i += 1\n",
    "        else:\n",
    "            iter2=iter2+1\n",
    "            # This is tricky. Consider the example.\n",
    "            # AAACAAAA and i = 7. The idea is similar \n",
    "            # to search step.\n",
    "            if len != 0:\n",
    "                iter2=iter2+1\n",
    "                len = lps[len-1]\n",
    "  \n",
    "                # Also, note that we do not increment i here\n",
    "            else:\n",
    "                iter2=iter2+1\n",
    "                lps[i] = 0\n",
    "                i += 1\n",
    "    return iter2;\n",
    "def KMP(pat, txt):\n",
    "    #global iter2\n",
    "    M = len(pat)\n",
    "    N = len(txt)\n",
    "    # create lps[] that will hold the longest prefix suffix \n",
    "    # values for pattern\n",
    "    lps = [0]*M\n",
    "    j = 0 # index for pat[]\n",
    "    iter2_temp=0\n",
    "    # Preprocess the pattern (calculate lps[] array)\n",
    "    iter2_temp = computeLPSArray(pat, M, lps)\n",
    "  \n",
    "    i = 0 # index for txt[]\n",
    "    while i < N:\n",
    "        iter2_temp=iter2_temp+1\n",
    "        if pat[j] == txt[i]:\n",
    "            iter2_temp=iter2_temp+1\n",
    "            i += 1\n",
    "            j += 1\n",
    "  \n",
    "        if j == M:\n",
    "            iter2_temp=iter2_temp+1\n",
    "            #print (\"Found pattern at index \" + str(i-j))\n",
    "            j = lps[j-1]\n",
    "  \n",
    "        # mismatch after j matches\n",
    "        elif i < N and pat[j] != txt[i]:\n",
    "            iter2_temp=iter2_temp+1\n",
    "            # Do not match lps[0..lps[j-1]] characters,\n",
    "            # they will match anyway\n",
    "            if j != 0:\n",
    "                iter2_temp=iter2_temp+1\n",
    "                j = lps[j-1]\n",
    "            else:\n",
    "                iter2_temp=iter2_temp+1\n",
    "                i += 1\n",
    "    iter_kmp.append(iter2_temp);"
   ]
  },
  {
   "cell_type": "code",
   "execution_count": 7,
   "metadata": {},
   "outputs": [],
   "source": [
    "NO_OF_CHARS = 256\n",
    "def badCharHeuristic(string, size):\n",
    "    '''\n",
    "    The preprocessing function for\n",
    "    Boyer Moore's bad character heuristic\n",
    "    '''\n",
    "    iter3=0\n",
    "    # Initialize all occurrence as -1\n",
    "    badChar = [-1]*NO_OF_CHARS\n",
    "    # Fill the actual value of last occurrence\n",
    "    for i in range(size):\n",
    "        iter3=iter3+1\n",
    "        badChar[ord(string[i])] = i;\n",
    "    # return initialized list\n",
    "    return badChar,iter3\n",
    "  \n",
    "def BM(txt, pat):\n",
    "    '''\n",
    "    A pattern searching function that uses Bad Character\n",
    "    Heuristic of Boyer Moore Algorithm\n",
    "    '''\n",
    "    iter3_temp=0\n",
    "    m = len(pat)\n",
    "    n = len(txt)\n",
    "    # create the bad character list by calling \n",
    "    # the preprocessing function badCharHeuristic()\n",
    "    # for given pattern\n",
    "    badChar,iter3_temp = badCharHeuristic(pat, m) \n",
    "  \n",
    "    # s is shift of the pattern with respect to text\n",
    "    s = 0\n",
    "    while(s <= n-m):\n",
    "        j = m-1\n",
    "        iter3_temp=iter3_temp+1\n",
    "        # Keep reducing index j of pattern while \n",
    "        # characters of pattern and text are matching\n",
    "        # at this shift s\n",
    "        while j>=0 and pat[j] == txt[s+j]:\n",
    "            j -= 1\n",
    "            iter3_temp=iter3_temp+1\n",
    "        # If the pattern is present at current shift, \n",
    "        # then index j will become -1 after the above loop\n",
    "        if j<0:\n",
    "            iter3_temp=iter3_temp+1\n",
    "            #print(\"Pattern occur at shift = {}\".format(s))\n",
    "            '''    \n",
    "                Shift the pattern so that the next character in text\n",
    "                      aligns with the last occurrence of it in pattern.\n",
    "                The condition s+m < n is necessary for the case when\n",
    "                   pattern occurs at the end of text\n",
    "               '''\n",
    "            s += (m-badChar[ord(txt[s+m])] if s+m<n else 1)\n",
    "        else:\n",
    "            iter3_temp=iter3_temp+1\n",
    "            '''\n",
    "               Shift the pattern so that the bad character in text\n",
    "               aligns with the last occurrence of it in pattern. The\n",
    "               max function is used to make sure that we get a positive\n",
    "               shift. We may get a negative shift if the last occurrence\n",
    "               of bad character in pattern is on the right side of the\n",
    "               current character.\n",
    "            '''\n",
    "            s += max(1, j-badChar[ord(txt[s+j])])\n",
    "    iter_bm.append(iter3_temp)"
   ]
  },
  {
   "cell_type": "code",
   "execution_count": 8,
   "metadata": {},
   "outputs": [],
   "source": [
    "Naive(pattern_6,file1)\n",
    "Naive(pattern_5,file1)\n",
    "Naive(pattern_4,file1)\n",
    "BM(file1,pattern_6)\n",
    "BM(file1,pattern_5)\n",
    "BM(file1,pattern_4)\n",
    "KMP(pattern_6,file1)\n",
    "KMP(pattern_5,file1)\n",
    "KMP(pattern_4,file1)\n",
    "\n",
    "Naive(pattern_6,file2)\n",
    "Naive(pattern_5,file2)\n",
    "Naive(pattern_4,file2)\n",
    "BM(file2,pattern_6)\n",
    "BM(file2,pattern_5)\n",
    "BM(file2,pattern_4)\n",
    "KMP(pattern_6,file2)\n",
    "KMP(pattern_5,file2)\n",
    "KMP(pattern_4,file2)\n",
    "\n",
    "Naive(pattern_6,file3)\n",
    "Naive(pattern_5,file3)\n",
    "Naive(pattern_4,file3)\n",
    "BM(file3,pattern_6)\n",
    "BM(file3,pattern_5)\n",
    "BM(file3,pattern_4)\n",
    "KMP(pattern_6,file3)\n",
    "KMP(pattern_5,file3)\n",
    "KMP(pattern_4,file3)"
   ]
  },
  {
   "cell_type": "code",
   "execution_count": 9,
   "metadata": {
    "scrolled": false
   },
   "outputs": [
    {
     "name": "stdout",
     "output_type": "stream",
     "text": [
      "[2, 9, 19, 0, 2, 32, 0, 1, 12]\n"
     ]
    }
   ],
   "source": [
    "#No.of.pattern matches for each file and for each pattern length\n",
    "print(count)"
   ]
  },
  {
   "cell_type": "code",
   "execution_count": 10,
   "metadata": {},
   "outputs": [
    {
     "name": "stdout",
     "output_type": "stream",
     "text": [
      "[28577, 28571, 28555, 27989, 27990, 27961, 19594, 19596, 19587]\n"
     ]
    }
   ],
   "source": [
    "#No.of.iterations for naive algorithm for each file and for each pattern length\n",
    "print(iter_naive)"
   ]
  },
  {
   "cell_type": "code",
   "execution_count": 11,
   "metadata": {},
   "outputs": [
    {
     "name": "stdout",
     "output_type": "stream",
     "text": [
      "[27520, 27509, 27490, 26952, 26948, 26914, 18996, 18993, 18979]\n"
     ]
    }
   ],
   "source": [
    "#No.of.iterations for KMP algorithm for each file and for each pattern length\n",
    "print(iter_kmp)"
   ]
  },
  {
   "cell_type": "code",
   "execution_count": 12,
   "metadata": {},
   "outputs": [
    {
     "name": "stdout",
     "output_type": "stream",
     "text": [
      "[10770, 12005, 11129, 10873, 11454, 12002, 6998, 8080, 8000]\n"
     ]
    }
   ],
   "source": [
    "#No.of.iterations for BM algorithm for each file and for each pattern length\n",
    "print(iter_bm)"
   ]
  },
  {
   "cell_type": "code",
   "execution_count": 13,
   "metadata": {},
   "outputs": [],
   "source": [
    "#Analysis of time complexity of each algorithm\n",
    "min_iter=[]\n",
    "mapping = zip(iter_naive,iter_kmp,iter_bm)\n",
    "tc=list(mapping)\n",
    "for i in range(len(tc)):\n",
    "    t1 = min(tc[i][0],tc[i][1],tc[i][2])\n",
    "    mini = tc[i].index(t1)\n",
    "    min_iter.append(mini)\n",
    "f1=min_iter[0:3]\n",
    "f2=min_iter[3:6]\n",
    "f3=min_iter[6:9]\n",
    "dict1 = {}\n",
    "dict1[0] = f1.count(0)\n",
    "dict1[1] = f1.count(1)\n",
    "dict1[2] = f1.count(2)\n",
    "dict2 = {}\n",
    "dict2[0] = f2.count(0)\n",
    "dict2[1] = f2.count(1)\n",
    "dict2[2] = f2.count(2)\n",
    "dict3 = {}\n",
    "dict3[0] = f3.count(0)\n",
    "dict3[1] = f3.count(1)\n",
    "dict3[2] = f3.count(2)\n",
    "f1_tc = max(zip(dict1.values(), dict1.keys()))[1]\n",
    "f2_tc = max(zip(dict2.values(), dict2.keys()))[1]\n",
    "f3_tc = max(zip(dict3.values(), dict3.keys()))[1]\n",
    "tc = {0:'Naive', 1:'KMP', 2:'BM'}"
   ]
  },
  {
   "cell_type": "code",
   "execution_count": 14,
   "metadata": {},
   "outputs": [],
   "source": [
    "fieldnames = ['Genome Name', 'Length of genome file', 'Match Percentage for read length-6 : [ATGCAT]', 'Match Percentage for read length-5 : [ATGCA]', 'Match Percentage for read length-4 : [ATGC]', 'Analysis of time complexity']\n",
    "rows = [\n",
    "    {'Genome Name' : 'Feline_Leukemia',\n",
    "    'Length of genome file': l1,\n",
    "    'Match Percentage for read length-6 : [ATGCAT]' : round((count[0]/l1)*100,4),\n",
    "    'Match Percentage for read length-5 : [ATGCA]' : round((count[1]/l1)*100,4),\n",
    "    'Match Percentage for read length-4 : [ATGC]' : round((count[2]/l1)*100,4),\n",
    "    'Analysis of time complexity' : tc[f1_tc]\n",
    "    },\n",
    "    {'Genome Name' : 'Bovine_Leukemia',\n",
    "    'Length of genome file': l2,\n",
    "    'Match Percentage for read length-6 : [ATGCAT]' : round((count[3]/l2)*100,4),\n",
    "    'Match Percentage for read length-5 : [ATGCA]' : round((count[4]/l2)*100,4),\n",
    "    'Match Percentage for read length-4 : [ATGC]' : round((count[5]/l2)*100,4),\n",
    "    'Analysis of time complexity' : tc[f2_tc]\n",
    "    },\n",
    "    {'Genome Name' : 'Abelson_Murine_Leukemia',\n",
    "    'Length of genome file': l3,\n",
    "    'Match Percentage for read length-6 : [ATGCAT]' : round((count[6]/l3)*100,4),\n",
    "    'Match Percentage for read length-5 : [ATGCA]' : round((count[7]/l3)*100,4),\n",
    "    'Match Percentage for read length-4 : [ATGC]' : round((count[8]/l3)*100,4),\n",
    "    'Analysis of time complexity' : tc[f3_tc]\n",
    "    }\n",
    "]\n",
    "\n",
    "with open('LEUKEMIA.csv', 'w', encoding='UTF8', newline='') as f:\n",
    "    writer = csv.DictWriter(f, fieldnames=fieldnames)\n",
    "    writer.writeheader()\n",
    "    writer.writerows(rows)"
   ]
  },
  {
   "cell_type": "code",
   "execution_count": 15,
   "metadata": {},
   "outputs": [
    {
     "data": {
      "text/plain": [
       "array([0, 1, 2, 3, 4, 5, 6, 7, 8])"
      ]
     },
     "execution_count": 15,
     "metadata": {},
     "output_type": "execute_result"
    }
   ],
   "source": [
    "import numpy as np\n",
    "arr1=np.arange(0,9)\n",
    "arr1"
   ]
  },
  {
   "cell_type": "code",
   "execution_count": 16,
   "metadata": {},
   "outputs": [
    {
     "name": "stdout",
     "output_type": "stream",
     "text": [
      "Requirement already satisfied: matplotlib in c:\\users\\kirupa\\anaconda3\\lib\\site-packages (3.5.0)\n",
      "Requirement already satisfied: setuptools-scm>=4 in c:\\users\\kirupa\\anaconda3\\lib\\site-packages (from matplotlib) (6.3.2)\n",
      "Requirement already satisfied: pyparsing>=2.2.1 in c:\\users\\kirupa\\anaconda3\\lib\\site-packages (from matplotlib) (2.4.7)\n",
      "Requirement already satisfied: python-dateutil>=2.7 in c:\\users\\kirupa\\anaconda3\\lib\\site-packages (from matplotlib) (2.8.1)\n",
      "Requirement already satisfied: pillow>=6.2.0 in c:\\users\\kirupa\\anaconda3\\lib\\site-packages (from matplotlib) (8.0.1)\n",
      "Requirement already satisfied: fonttools>=4.22.0 in c:\\users\\kirupa\\anaconda3\\lib\\site-packages (from matplotlib) (4.28.2)\n",
      "Requirement already satisfied: numpy>=1.17 in c:\\users\\kirupa\\anaconda3\\lib\\site-packages (from matplotlib) (1.19.2)\n",
      "Requirement already satisfied: packaging>=20.0 in c:\\users\\kirupa\\anaconda3\\lib\\site-packages (from matplotlib) (20.8)\n",
      "Requirement already satisfied: cycler>=0.10 in c:\\users\\kirupa\\anaconda3\\lib\\site-packages (from matplotlib) (0.11.0)\n",
      "Requirement already satisfied: kiwisolver>=1.0.1 in c:\\users\\kirupa\\anaconda3\\lib\\site-packages (from matplotlib) (1.3.2)\n",
      "Requirement already satisfied: six>=1.5 in c:\\users\\kirupa\\anaconda3\\lib\\site-packages (from python-dateutil>=2.7->matplotlib) (1.15.0)\n",
      "Requirement already satisfied: setuptools in c:\\users\\kirupa\\anaconda3\\lib\\site-packages (from setuptools-scm>=4->matplotlib) (51.0.0.post20201207)\n",
      "Requirement already satisfied: tomli>=1.0.0 in c:\\users\\kirupa\\anaconda3\\lib\\site-packages (from setuptools-scm>=4->matplotlib) (1.2.2)\n"
     ]
    }
   ],
   "source": [
    "!pip install matplotlib\n",
    "import matplotlib.pyplot as plt"
   ]
  },
  {
   "cell_type": "code",
   "execution_count": 17,
   "metadata": {},
   "outputs": [
    {
     "data": {
      "text/plain": [
       "Text(0, 0.5, 'Iterations')"
      ]
     },
     "execution_count": 17,
     "metadata": {},
     "output_type": "execute_result"
    },
    {
     "data": {
      "image/png": "[encoded data removed]",
      "text/plain": [
       "<Figure size 648x576 with 1 Axes>"
      ]
     },
     "metadata": {
      "needs_background": "light"
     },
     "output_type": "display_data"
    }
   ],
   "source": [
    "fig,axes=plt.subplots(figsize=(9,8))\n",
    "axes.plot(arr1,iter_naive,color='blue',marker='s',markersize=10,label='Naive')\n",
    "axes.plot(arr1,iter_kmp,color='red',marker='o',markersize=10,label='KMP')\n",
    "axes.plot(arr1,iter_bm,color='green',marker='p',markersize=10,label='BM')\n",
    "axes.set_title('Performance analysis for Leukemia Genome')\n",
    "axes.legend(loc=(0,1.10),mode='expand',ncol=3)\n",
    "axes.set_xlabel('Leukemia Patterns')\n",
    "axes.set_ylabel('Iterations')"
   ]
  },
  {
   "cell_type": "code",
   "execution_count": null,
   "metadata": {},
   "outputs": [],
   "source": []
  }
 ],
 "metadata": {
  "kernelspec": {
   "display_name": "Python 3",
   "language": "python",
   "name": "python3"
  },
  "language_info": {
   "codemirror_mode": {
    "name": "ipython",
    "version": 3
   },
   "file_extension": ".py",
   "mimetype": "text/x-python",
   "name": "python",
   "nbconvert_exporter": "python",
   "pygments_lexer": "ipython3",
   "version": "3.7.4"
  }
 },
 "nbformat": 4,
 "nbformat_minor": 5
}
